{
 "cells": [
  {
   "cell_type": "code",
   "execution_count": 2,
   "id": "958a602b",
   "metadata": {},
   "outputs": [
    {
     "name": "stdout",
     "output_type": "stream",
     "text": [
      " \n",
      "SPACE\n",
      "!\n",
      "PUNCT\n",
      "First\n",
      "ADJ\n",
      "test\n",
      "NOUN\n",
      "?\n",
      "PUNCT\n"
     ]
    }
   ],
   "source": [
    "import spacy\n",
    "\n",
    "ner_model=spacy.load(\"en_core_web_sm\")\n",
    "\n",
    "doc = ner_model(\" ! First test ? \")\n",
    "#print([w.text, w.pos_] for w in doc)\n",
    "for word in doc:\n",
    "    print(word.text)\n",
    "    print(word.pos_)"
   ]
  },
  {
   "cell_type": "code",
   "execution_count": null,
   "id": "36a61b3f",
   "metadata": {},
   "outputs": [],
   "source": []
  }
 ],
 "metadata": {
  "kernelspec": {
   "display_name": "Python 3 (ipykernel)",
   "language": "python",
   "name": "python3"
  },
  "language_info": {
   "codemirror_mode": {
    "name": "ipython",
    "version": 3
   },
   "file_extension": ".py",
   "mimetype": "text/x-python",
   "name": "python",
   "nbconvert_exporter": "python",
   "pygments_lexer": "ipython3",
   "version": "3.10.12"
  }
 },
 "nbformat": 4,
 "nbformat_minor": 5
}
